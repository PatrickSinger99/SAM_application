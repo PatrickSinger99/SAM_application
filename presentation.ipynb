{
 "cells": [
  {
   "cell_type": "markdown",
   "id": "d3fb040f",
   "metadata": {},
   "source": [
    "# Segmentiere Alles\n",
    "Von Teresa und Patrick"
   ]
  },
  {
   "cell_type": "markdown",
   "id": "8c6abd07",
   "metadata": {},
   "source": [
    "## 1. Was ist Semantic Segmentation?"
   ]
  },
  {
   "cell_type": "markdown",
   "id": "132886f3",
   "metadata": {},
   "source": [
    "## 2. Image Segmentation Historie"
   ]
  },
  {
   "cell_type": "markdown",
   "id": "39109257",
   "metadata": {},
   "source": [
    "## 3. Segment Anything Projekt\n",
    "\n",
    "### Ziele und abgeleitete Anforderungen\n",
    "**Hauptziel:** \n",
    "\n",
    "### Überblick\n",
    "\n",
    "### Task\n",
    "\n",
    "### Engine\n",
    "\n",
    "### Model"
   ]
  },
  {
   "cell_type": "markdown",
   "id": "a666d90a",
   "metadata": {},
   "source": [
    "## 4. Zero-Shot Experimente"
   ]
  },
  {
   "cell_type": "markdown",
   "id": "fc81a19c",
   "metadata": {},
   "source": [
    "## 5. Vergleich mit anderen Modellen\n",
    "### Limitations"
   ]
  },
  {
   "cell_type": "markdown",
   "id": "84225ba2",
   "metadata": {},
   "source": [
    "## 6. Fazit"
   ]
  },
  {
   "cell_type": "code",
   "execution_count": null,
   "id": "dd0169ed",
   "metadata": {},
   "outputs": [],
   "source": []
  }
 ],
 "metadata": {
  "kernelspec": {
   "display_name": "sam",
   "language": "python",
   "name": "sam"
  },
  "language_info": {
   "codemirror_mode": {
    "name": "ipython",
    "version": 3
   },
   "file_extension": ".py",
   "mimetype": "text/x-python",
   "name": "python",
   "nbconvert_exporter": "python",
   "pygments_lexer": "ipython3",
   "version": "3.11.3"
  }
 },
 "nbformat": 4,
 "nbformat_minor": 5
}
