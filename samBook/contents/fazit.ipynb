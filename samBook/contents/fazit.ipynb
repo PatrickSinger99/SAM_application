{
 "cells": [
  {
   "attachments": {},
   "cell_type": "markdown",
   "metadata": {},
   "source": [
    "# Fazit"
   ]
  },
  {
   "attachments": {},
   "cell_type": "markdown",
   "metadata": {},
   "source": [
    "**SAM und SA-1B Dataset bilden gute Basis für weitere Forschung im Image Segmentation Bereich**\n",
    "\n",
    "## SAM\n",
    "- **Zero Shot Transfer** bietet gute Basis, um darauf aufzubauen \n",
    "- **Foundation Modell** mit viel Potential ein **Meilenstein** im Bereich der Image Segmentation zu werden\n",
    "- trotzdem einige **Schwachstellen**, da generelles Modell\n",
    "\n",
    "## SA-1B\n",
    "- bisher **größter Datensatz** für Image Segmentation\n",
    "- hohe **Diversität** an Masken\n",
    "\n",
    "## Diverse weitere Anwendungsmöglichkeiten \n",
    "\n",
    "```{figure} ./images/SAM_ar-vr.gif\n",
    ":name: SAM_ar-vr\n",
    "Anwendung von SAM, um den Blick eines Benutzers von einem AR/VR-Headset zu nehmen und Objekte zu segmentieren und klassifizieren (verwendet Open-Source Pilot Dataset Aria). {cite}`AI_2023`\n",
    "```\n",
    "\n",
    "  <!--\n",
    "    - Eingabe von AR/VR-Brille und Segmentierung + Klassifizierung von Objekten in Real-Time [Beispielbild von segmenty-anything.com]\n",
    "    - Eingabe von AR/VR-Brille und Segmentierung + sprachliche Ausgabe der Objekt-Klassifizierung\n",
    "    - Qualitätssicherung in Produktionsstätten - haben meine Produkte Fehler? Kamera-Erkennung der Objekte, Backtracken wann es passiert ist und warum\n",
    "    - Überwachung von Bereichen - Sicherheitsmaßnahmen oder Landwirtschaft - Crop und Weed Erkennung\n",
    "    - ...\n",
    "  -->"
   ]
  }
 ],
 "metadata": {
  "language_info": {
   "name": "python"
  },
  "orig_nbformat": 4
 },
 "nbformat": 4,
 "nbformat_minor": 2
}
