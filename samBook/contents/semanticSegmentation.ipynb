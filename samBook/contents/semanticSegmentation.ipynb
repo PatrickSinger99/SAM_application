{
 "cells": [
  {
   "attachments": {},
   "cell_type": "markdown",
   "metadata": {},
   "source": [
    "# Image Segmentation"
   ]
  },
  {
   "attachments": {},
   "cell_type": "markdown",
   "metadata": {},
   "source": [
    "## Segmentation\n",
    "\n",
    "- interactive segmentation\n",
    "- edge detection\n",
    "- super pixelization\n",
    "- object proposal generation\n",
    "- foreground segmentation\n",
    "- **semantic segmentation**\n",
    "- **instance segmentation**\n",
    "- panoptic segmentation\n",
    "- ..."
   ]
  },
  {
   "attachments": {},
   "cell_type": "markdown",
   "metadata": {},
   "source": [
    "```{figure} ./images/semantic_seg.gif\n",
    ":name: semantic_seg\n",
    ":align: center\n",
    "Beispiel von Semantic Segmentation mit Videoinhalt. {cite}`Dwivedi_2019`\n",
    "```"
   ]
  },
  {
   "attachments": {},
   "cell_type": "markdown",
   "metadata": {},
   "source": [
    "`````{admonition} Semantic Segmentation VS Instance Segmentation\n",
    ":class: tip\n",
    "**Semantic segmentation** is **one of the key problems in computer vision** nowadays. <br>\n",
    "Semantic segmentation is **the task of clustering ring parts of an image that belong to the same object class**. <br>\n",
    "It is a **form of pixel-level prediction** because each pixel of an image is classified according to a category. {cite}`WU2023`\n",
    "\n",
    "\n",
    "**Instance Segmentation** [...] deals with detecting and delineating **each distinct instance of an object** in an image. <br>\n",
    " Instance segmentation** detects all instances of a class** with the extra functionality of **demarcating separate instances** of any segment class.  {cite}`Walia_2022`\n",
    "\n",
    "`````"
   ]
  },
  {
   "attachments": {},
   "cell_type": "markdown",
   "metadata": {},
   "source": [
    "## Unterschied zu anderen Ansätzen in Computer Vision\n",
    "\n",
    "```{figure} ./images/semantic_seg_diff.png\n",
    ":name: semantic_seg_diff\n",
    ":align: center\n",
    "Unterschiede zwischen Ansätzen in Computer Vision. {cite}`Dwivedi_2019`\n",
    "```"
   ]
  }
 ],
 "metadata": {
  "language_info": {
   "name": "python"
  },
  "orig_nbformat": 4
 },
 "nbformat": 4,
 "nbformat_minor": 2
}
