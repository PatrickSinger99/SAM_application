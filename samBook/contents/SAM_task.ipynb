{
 "cells": [
  {
   "attachments": {},
   "cell_type": "markdown",
   "metadata": {},
   "source": [
    "# Promptable Image Segmentation Task\n",
    "\n",
    "`````{admonition} Ziel\n",
    ":class: tip\n",
    "*[...] Produce a broadly capable **model** that can **adapt** to many (though not all) **existing and new segmentation tasks** via prompt engineering and enable **task generalization**.\"* {cite}`kirillov2023segment`\n",
    "`````\n",
    "\n",
    "`````{admonition} Promptable Segmentation Task\n",
    ":class: note\n",
    "... soll eine valide Segmentation **Maske** für jeden beliebigen **Prompt** zurückgeben.\n",
    "`````"
   ]
  },
  {
   "attachments": {},
   "cell_type": "markdown",
   "metadata": {},
   "source": [
    "## Prompt\n",
    "\n",
    "&rarr; jegliche Information als **Eingabe**, die angibt was im Bild segmentiert werden soll\n",
    "\n",
    "- Prinzip kommt von Natural Language Processing\n",
    "- ein Prompt für Image Segmentation kann ... sein\n",
    "    - **Punkte** im Vordergrund / Hintergrund\n",
    "    - eine (ungefähre) **Box** oder Maske\n",
    "    - freier **Text** <br>"
   ]
  },
  {
   "attachments": {},
   "cell_type": "markdown",
   "metadata": {},
   "source": [
    "```{figure} ./images/point_example.png\n",
    ":name: point_example\n",
    ":width: 500px\n",
    ":height: 300px\n",
    "Beispiel eines Punktes als Prompt {cite}`kirillov2023segment`.\n",
    "```"
   ]
  },
  {
   "attachments": {},
   "cell_type": "markdown",
   "metadata": {},
   "source": [
    "```{figure} ./images/boundingBox_example.png\n",
    ":name: boundingBox_example\n",
    ":width: 500px\n",
    ":height: 300px\n",
    "Beispiel einer Bounding Box als Prompt {cite}`kirillov2023segment`.\n",
    "```"
   ]
  },
  {
   "attachments": {},
   "cell_type": "markdown",
   "metadata": {},
   "source": [
    "### Warum Prompting?\n",
    "- **jegliche Inputs** im obigen Format können als Eingabe für SAM benutzt werden\n",
    "- ermöglicht **Task Generalization** und **Zero-Shot Transfer** <br> <br>\n",
    "    &rarr; Modell kann erweiterbar verwendet werden mit anderen Modellen - **Komposition** <br>\n",
    "    &rarr; ist **nicht beschränkt** auf limitierte Anzahl an Tasks vom Training"
   ]
  },
  {
   "attachments": {},
   "cell_type": "markdown",
   "metadata": {},
   "source": [
    "## Maske\n",
    "\n",
    "&rarr;  **Ausgabe** als **Umrandung** des Bereichs im Bild, der durch den Prompt erfragt wurde\n",
    "\n",
    "```{figure} ./images/mask_example.png\n",
    ":name: mask_example\n",
    ":width: 500px\n",
    ":height: 300px\n",
    "Beispiel einer generierten Maske {cite}`kirillov2023segment`.\n",
    "```\n",
    "\n",
    "### \"Valide\" Maske\n",
    "\n",
    "- Problem der **Mehrdeutigkeit**\n",
    "- Prompt ist mehrdeutig und könnte zu mehreren Sachen referenzieren <br>\n",
    "    &rarr; Ausgabe sollte **eine sinvolle Maske** für **mindestens eines der Objekte** sein\n",
    "\n",
    "```{figure} ./images/ambigious_masks_example.png\n",
    ":name: ambigious_masks_example\n",
    "Beispiel eines mehrdeutigen Prompts mit mehreren Masken {cite}`kirillov2023segment`.\n",
    "```\n",
    "\n",
    "<!-- requirement is similar to expecting a language model to output a coherent response to an ambiguous prompt -->\n",
    "<br>"
   ]
  },
  {
   "attachments": {},
   "cell_type": "markdown",
   "metadata": {},
   "source": [
    "> *this task [...] leads to a **natural pre-training algorithm** and a general method for **zero-shot transfer** to downstream segmentation tasks via **prompting**.*"
   ]
  },
  {
   "attachments": {},
   "cell_type": "markdown",
   "metadata": {},
   "source": [
    "<!--\n",
    "## Pre-Training Algorithmus\n",
    "\n",
    "Wie soll es möglich sein jegliche Art von Prompt als Eingabe zu benutzen? <br>\n",
    "&rarr; Pre-Training: **allgemeine Basis, um nachher auf Downstream Tasks finetunen zu können**\n",
    "\n",
    "### Aufgabe\n",
    "- simuliert eine Sequenz an Prompts (Punkte, Boxen, Masken) für jedes Training Sample\n",
    "- vergleicht die Vorhersagen an Masken des Modells mit dem Ground Truth\n",
    "\n",
    "### Methodik\n",
    "- basiert auf \"interactive segmentation\" <br>\n",
    "    - *\"allows users to extract target masks by making positive/negative clicks\"* {cite}`chen2022focalclick` <br>\n",
    "    &rarr; nach genügend Benutzereingaben eine gültige Maske vorhersagen <br><br>\n",
    "\n",
    "- SAM benutzt dafür die **Data Engine** <br>\n",
    "    - sicherstellen, dass Mehrdeutigkeit kein Problem ist \n",
    "    - automatische Annotationen\n",
    "-->"
   ]
  },
  {
   "attachments": {},
   "cell_type": "markdown",
   "metadata": {},
   "source": [
    "## Zero-shot Transfer\n",
    "\n",
    "&rarr; Pretraining ermöglicht dem Model in der Inferenz Phase **auf jede Art an Prompt angemessen zu reagieren** <br>\n",
    "    &rarr; **weiterführende Tasks (Downstream Tasks)** können durch die Entwicklung geeigneter Prompts gelöst werden\n",
    "    &rarr; ermöglicht **Task Generalisierung**\n",
    "\n",
    "#### Beispiel: Bounding-Box Detektor für Katzen\n",
    "1. Bounding-Box Detektor gibt Box als Ausgabe aus\n",
    "2. Box kann als Eingabe-Prompt für SAM benutzt werden\n",
    "3. Grundlage für Katzen Instance Segmentation <br>\n",
    "<!-- dadurch können viele unterscheidliche Segmentierungsaufgaben als Prompts verwendet werden -->"
   ]
  },
  {
   "attachments": {},
   "cell_type": "markdown",
   "metadata": {},
   "source": [
    "\n",
    "```{figure} ./images/cat_boundingBox.gif\n",
    ":name: cat_boundingBox\n",
    ":width: 600px\n",
    ":height: 550px\n",
    "Bounding box prompts from an object detector can enable text-to-object segmentation. {cite}`AI_2023`\n",
    "```\n",
    "\n"
   ]
  },
  {
   "attachments": {},
   "cell_type": "markdown",
   "metadata": {},
   "source": []
  }
 ],
 "metadata": {
  "kernelspec": {
   "display_name": "Python 3 (ipykernel)",
   "language": "python",
   "name": "python3"
  },
  "language_info": {
   "codemirror_mode": {
    "name": "ipython",
    "version": 3
   },
   "file_extension": ".py",
   "mimetype": "text/x-python",
   "name": "python",
   "nbconvert_exporter": "python",
   "pygments_lexer": "ipython3",
   "version": "3.10.11"
  }
 },
 "nbformat": 4,
 "nbformat_minor": 2
}
