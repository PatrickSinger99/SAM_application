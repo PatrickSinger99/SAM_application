{
 "cells": [
  {
   "attachments": {},
   "cell_type": "markdown",
   "metadata": {},
   "source": [
    "# Image Segmentation Task\n",
    "\n",
    "`````{admonition} Promptable Segmentation Task\n",
    ":class: note\n",
    "Der \"Promptable Segmentation Task\" soll eine valide Segmentation **Maske** für jeden beliebigen **Prompt** zurückgeben.\n",
    "`````"
   ]
  },
  {
   "attachments": {},
   "cell_type": "markdown",
   "metadata": {},
   "source": [
    "## Prompt\n",
    "\n",
    "- Prinzip kommt von Natural Language Processing\n",
    "- ein Prompt für Image Segmentation kann ... sein\n",
    "    - Punkte im Vordergrund / Hintergrund\n",
    "    - eine (ungefähre) Box oder Maske\n",
    "    - freier Text <br>\n",
    "    &rarr; jegliche **Information, die angibt was im Bild segmentiert werden soll**"
   ]
  },
  {
   "cell_type": "code",
   "execution_count": null,
   "metadata": {},
   "outputs": [],
   "source": [
    "# TODO: punkte im Vordergrund zeigen\n",
    "# TODO: Box zeigen\n",
    "# TODO: freies Text beispiel zeigen"
   ]
  },
  {
   "attachments": {},
   "cell_type": "markdown",
   "metadata": {},
   "source": [
    "## Maske\n",
    "\n",
    "&rarr;  **Umrandung** des Bereichs im Bild, der durch den Prompt erfragt wurde <br>\n",
    "### \"Valide\" Maske\n",
    "\n",
    "- Problem der **Mehrdeutigkeit**\n",
    "- Prompt ist mehrdeutig und könnte zu mehreren Sachen referenzieren <br>\n",
    "    &rarr; Ausgabe sollte **eine sinvolle Maske** für **mindestens eines der Objekte** sein\n",
    "\n",
    "<!-- requirement is similar to expecting a language model to output a coherent response to an ambiguous prompt -->\n",
    "<br>"
   ]
  },
  {
   "cell_type": "code",
   "execution_count": null,
   "metadata": {},
   "outputs": [],
   "source": [
    "# TODO: Bild von Maske"
   ]
  },
  {
   "attachments": {},
   "cell_type": "markdown",
   "metadata": {},
   "source": [
    "> *this task [...] leads to a **natural pre-training algorithm** and a general method for **zero-shot transfer** to downstream segmentation tasks via **prompting**.*"
   ]
  },
  {
   "attachments": {},
   "cell_type": "markdown",
   "metadata": {},
   "source": [
    "## Pre-Training Algorithmus\n",
    "\n",
    "&rarr; Pretraining, um das \n",
    "\n",
    "### Aufgabe\n",
    "- simuliert eine Sequenz an Prompts (Punkte, Boxen, Masken) für jedes Training Sample\n",
    "- vergleicht die Vorhersagen an Masken des Modells mit dem Ground Truth\n",
    "\n",
    "### Methodik\n",
    "- basiert auf \"interactive segmentation\" <br>\n",
    "    - *\"allows users to extract target masks by making positive/negative clicks\"* {cite}`chen2022focalclick` <br>\n",
    "    &rarr; nach genügend Benutzereingaben eine gültige Maske vorhersagen <br><br>\n",
    "\n",
    "\n",
    "- SAM benutzt dafür die **Data Engine** <br> <!--die wir euch gleich vorstellen-->\n",
    "    - sicherstellen, dass Mehrdeutigkeit kein Problem ist \n",
    "    - automatische Annotationen\n",
    "    <!--Wie das geht? man brauch spezielle Modell- und Trainingsverluste auf die wir gleich beim Modell selber eingehen werden-->"
   ]
  },
  {
   "attachments": {},
   "cell_type": "markdown",
   "metadata": {},
   "source": [
    "## Zero-shot Transfer\n",
    "\n",
    "&rarr; Pretraining ermöglicht dem Model in der Inferenz Phase **auf jede Art an Prompt angemessen zu reagieren** <br>\n",
    "    --> weiterführende Tasks können durch die Entwicklung geeigneter Prompts gelöst werden\n",
    "\n",
    "- Bsp: Bounding-Box Detektor für Katzen\n",
    "--> Detektors ausgegebene Box ist der Eingabe-Prompt für SAM\n",
    "--> dadurch können viele unterscheidliche Segmentierungsaufgaben als Prompts verwendet werden"
   ]
  },
  {
   "attachments": {},
   "cell_type": "markdown",
   "metadata": {},
   "source": []
  }
 ],
 "metadata": {
  "kernelspec": {
   "display_name": "Python 3 (ipykernel)",
   "language": "python",
   "name": "python3"
  },
  "language_info": {
   "codemirror_mode": {
    "name": "ipython",
    "version": 3
   },
   "file_extension": ".py",
   "mimetype": "text/x-python",
   "name": "python",
   "nbconvert_exporter": "python",
   "pygments_lexer": "ipython3",
   "version": "3.9.7"
  }
 },
 "nbformat": 4,
 "nbformat_minor": 2
}
