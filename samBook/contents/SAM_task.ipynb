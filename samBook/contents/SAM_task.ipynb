{
 "cells": [
  {
   "attachments": {},
   "cell_type": "markdown",
   "metadata": {},
   "source": [
    "# Image Segmentation Task\n",
    "\n",
    "`````{admonition} Promptable Segmentation Task\n",
    ":class: note\n",
    "Der \"Promptable Segmentation Task\" soll eine valide Segmentation **Maske** für jeden beliebigen **Prompt** zurückgeben.\n",
    "`````"
   ]
  },
  {
   "attachments": {},
   "cell_type": "markdown",
   "metadata": {},
   "source": [
    "## Prompt\n",
    "\n",
    "- Prinzip kommt von Natural Language Processing\n",
    "- ein Prompt für Image Segmentation kann ... sein\n",
    "    - Punkte im Vordergrund / Hintergrund\n",
    "    - eine (ungefähre) Box oder Maske\n",
    "    - freier Text <br>\n",
    "    &rarr; jegliche **Information, die angibt was im Bild segmentiert werden soll**"
   ]
  },
  {
   "attachments": {},
   "cell_type": "markdown",
   "metadata": {},
   "source": [
    "## Maske\n",
    "\n",
    "- Umrandung des Bereichs im Bild, der durch den Prompt erfragt wurde\n",
    "- \"valide\" Maske\n",
    "    - Problem der **Mehrdeutigkeit**\n",
    "    - Prompt ist mehrdeutig und könnte zu mehreren Sachen referenzieren\n",
    "        &rarr; Ausgabe sollte **eine sinvolle Maske für mindestens eines der Objekte sein**\n",
    "\n",
    "        <br>"
   ]
  },
  {
   "attachments": {},
   "cell_type": "markdown",
   "metadata": {},
   "source": [
    "> *this task [...] leads to a **natural pre-training algorithm** and a general method for **zero-shot transfer** to downstream segmentation tasks via **prompting**.*"
   ]
  },
  {
   "attachments": {},
   "cell_type": "markdown",
   "metadata": {},
   "source": [
    "## Pre-Training\n"
   ]
  }
 ],
 "metadata": {
  "language_info": {
   "name": "python"
  },
  "orig_nbformat": 4
 },
 "nbformat": 4,
 "nbformat_minor": 2
}
