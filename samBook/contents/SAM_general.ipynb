{
 "cells": [
  {
   "attachments": {},
   "cell_type": "markdown",
   "metadata": {},
   "source": [
    "# SAM - Segment Anything"
   ]
  },
  {
   "attachments": {},
   "cell_type": "markdown",
   "metadata": {},
   "source": [
    "Paper: [Segment Anything](https://arxiv.org/pdf/2304.02643.pdf) von Meta AI Research, 2023 "
   ]
  },
  {
   "attachments": {},
   "cell_type": "markdown",
   "metadata": {},
   "source": [
    "## 1 Allgemeines\n",
    "\n",
    "- Projekt von Meta \n",
    "- veröffentlicht in 2023\n",
    "- Demo verfügbar unter [https://segment-anything.com/](https://segment-anything.com/)\n",
    "- verfügbar für Forschungszwecke (offene Lizenz, Apache 2.0)"
   ]
  },
  {
   "attachments": {},
   "cell_type": "markdown",
   "metadata": {},
   "source": [
    "```{figure} ./images/sam_exampleImage_01.png\n",
    ":name: sam_example\n",
    ":width: 550px\n",
    ":height: 300px\n",
    ":align: center\n",
    "Beispielbild mit aufgelegten Masken von SAM {cite}`kirillov2023segment`.\n",
    "```"
   ]
  },
  {
   "attachments": {},
   "cell_type": "markdown",
   "metadata": {},
   "source": [
    "## 2 Ziel des Projekts\n",
    "\n",
    "\n",
    "`````{admonition} Generelles Ziel\n",
    ":class: tip\n",
    "*Our goal is to build a **foundation model** for **image segmentation**. [...] <br>\n",
    "We seek to develop a **promptable model** and pre-train it on a **broad dataset** using a task that enables powerful **generalization**.* {cite}`kirillov2023segment`\n",
    "`````\n"
   ]
  },
  {
   "attachments": {},
   "cell_type": "markdown",
   "metadata": {},
   "source": [
    "`````{admonition} Foundation Model\n",
    ":class: note\n",
    "Ein Foundation Model ist jedes Modell, das auf umfangreichen Daten trainiert wurde und an eine Vielzahl von weiterführenden Aufgaben angepasst bzw. fine-tuned werden kann. <br>\n",
    "Können mit Zero-Shot oder Few-Shot Learning durch \"Prompting\" auf neue Daten und Tasks generalisieren. <br>\n",
    "Aktuelle Beispiele sind **BERT**, **GPT-4** und **CLIP**. {cite}`bommasani2022opportunities`\n",
    "`````"
   ]
  },
  {
   "attachments": {},
   "cell_type": "markdown",
   "metadata": {},
   "source": [
    "## 3 Anforderungen\n",
    "\n",
    "- große **Menge an Daten** zum Trainieren\n",
    "- Fähigkeit von **Zero-Shot** Learning und Transfer\n",
    "- Unterstützung von **flexiblen Prompts**\n",
    "- Berechnung von Masken in **Echtzeit**\n",
    "- **Mehrdeutigkeit** von Objekten bewusst sein"
   ]
  },
  {
   "attachments": {},
   "cell_type": "markdown",
   "metadata": {},
   "source": [
    "`````{admonition} Zero-Shot\n",
    ":class: note\n",
    "Zero-Shot Learning \n",
    "`````"
   ]
  },
  {
   "attachments": {},
   "cell_type": "markdown",
   "metadata": {},
   "source": [
    "## 4 Aufbau des Projekts\n",
    "\n",
    "```{figure} ./images/sam_aufbau.png\n",
    ":name: sam_aufbau\n",
    ":width: 800px\n",
    ":height: 250px\n",
    ":align: center\n",
    "Aufbau des SAM Projekts - (a) Task, (b) Model und (c) Data. {cite}`kirillov2023segment`\n",
    "```"
   ]
  }
 ],
 "metadata": {
  "kernelspec": {
   "display_name": "Python 3 (ipykernel)",
   "language": "python",
   "name": "python3"
  },
  "language_info": {
   "codemirror_mode": {
    "name": "ipython",
    "version": 3
   },
   "file_extension": ".py",
   "mimetype": "text/x-python",
   "name": "python",
   "nbconvert_exporter": "python",
   "pygments_lexer": "ipython3",
   "version": "3.9.7"
  }
 },
 "nbformat": 4,
 "nbformat_minor": 2
}
