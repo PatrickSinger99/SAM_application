{
 "cells": [
  {
   "attachments": {},
   "cell_type": "markdown",
   "metadata": {},
   "source": [
    "# Vergleich"
   ]
  },
  {
   "attachments": {},
   "cell_type": "markdown",
   "metadata": {},
   "source": [
    "Aus Zusammenfassung:\n",
    "\n",
    "Mask Properties (Eigenschaften) → wie gut ist das Dataset im Vergleich zu anderen?\n",
    "\n",
    "SA-1B deckt die Bildecken besser ab als andere aktuelle Datensätze für Segmentation\n",
    "\n",
    "SA-1B has 11× more images and 400× more masks than the second largest, Open Images\n",
    "it has 36× more masks per image\n",
    "since our dataset has more masks per image, it also tends to include a greater percentage of small and medium relative-size masks\n",
    "the concavity distribution of our masks is broadly similar to that of other datasets\n"
   ]
  },
  {
   "cell_type": "code",
   "execution_count": null,
   "metadata": {
    "vscode": {
     "languageId": "plaintext"
    }
   },
   "outputs": [],
   "source": [
    "### Qualität der Masken\n",
    "- Masken wurden mit 500 randomly sampled Bildern (~50k masken) getestet\n",
    "- menschliche Annotators sollten automatischen Masken verbessern\n",
    "- Vergleich von Paar von automatisch erkannten und professionell annotierten Masken\n",
    "    &rarr; IoU für jedes Paar → 94% der Paare haben höher als 90% IoU\n",
    "vorherige Arbeiten haben nur 85-91%"
   ]
  },
  {
   "attachments": {},
   "cell_type": "markdown",
   "metadata": {},
   "source": []
  }
 ],
 "metadata": {
  "language_info": {
   "name": "python"
  },
  "orig_nbformat": 4
 },
 "nbformat": 4,
 "nbformat_minor": 2
}
