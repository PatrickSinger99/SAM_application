{
 "cells": [
  {
   "attachments": {},
   "cell_type": "markdown",
   "metadata": {},
   "source": [
    "# Vergleich"
   ]
  },
  {
   "attachments": {},
   "cell_type": "markdown",
   "metadata": {},
   "source": [
    "## SAM Modell\n",
    "\n",
    "### Vergleich mit YOLO und Mask R-CNN"
   ]
  },
  {
   "attachments": {},
   "cell_type": "markdown",
   "metadata": {},
   "source": [
    "```{list-table} Vergleich von SAM mit YOLO und Mask R-CNN. \n",
    ":header-rows: 1\n",
    ":name: sam-vergleich\n",
    ":\n",
    "\n",
    "* - SAM\n",
    "  - YOLO\n",
    "  - Mask R-CNN\n",
    "* - Transformer\n",
    "  - CNN\n",
    "  - ResNet\n",
    "* - Zero-Shot Modell\n",
    "  - Trainings-basiert\n",
    "  - Trainings-basiert\n",
    "* - Masken\n",
    "  - Bounding-Boxen mit Klassen-Wahrscheinlichkeiten\n",
    "  - Bounding-Boxen &rarr; Masken\n",
    "* - unterstützt Prompting\n",
    "  - unterstützt kein Prompting\n",
    "  - unterstützt kein Prompting\n",
    "* - schnellste Segmentierung\n",
    "  - zweit-schnellste Segmentierung\n",
    "  - dritt-schnellste Segmentierung\n",
    "```\n",
    "Quellen: {cite}`Polat_2023`, {cite}`9722616`"
   ]
  },
  {
   "attachments": {},
   "cell_type": "markdown",
   "metadata": {},
   "source": [
    "### Vergleich mit SEEM\n",
    "\n",
    "**&rarr; Segment Everything Everywhere All at Once**\n",
    "\n",
    "```{figure} ./images/vergleich_seem.png\n",
    ":name: vergleich_seem\n",
    ":align: center\n",
    "SEEM Modell mit diversen Segmentation Tasks. {cite}`zou2023segment`.\n",
    "```\n",
    "\n",
    "#### Unterschiede\n",
    "\n",
    "```{list-table} Vergleich von SAM mit SEEM. \n",
    ":header-rows: 1\n",
    ":name: sam-seem-vergleich\n",
    ":\n",
    "\n",
    "* - SAM\n",
    "  - SEEM\n",
    "* - Interaktionstypen: Punkte, Boxen (und Text)\n",
    "  - Interaktionstypen: Punkte, Boxen, Scribble, Text/Audio, Reference, Text+Visual\n",
    "* - keine semantischen Labels\n",
    "  - diverse semantische Möglichkeiten\n",
    "* - unterstützt Zero-Shot Learning + Transfer\n",
    "  - allgemeinere Anwendungen (+ potentielle custom prompts)\n",
    "```\n",
    "Quellen: {cite}`zou2023segment`, {cite}`UX-Decoder_2023`\n",
    "\n",
    "<br>\n",
    "\n",
    "```{figure} ./images/vergleich_seem_sam.png\n",
    ":name: vergleich_seem_sam\n",
    ":align: center\n",
    ":width: 500px\n",
    ":height: 400px\n",
    "Direkter Vergleich von SEEM Modell mit SAM. {cite}`zou2023segment`.\n",
    "```\n",
    "\n"
   ]
  },
  {
   "attachments": {},
   "cell_type": "markdown",
   "metadata": {},
   "source": [
    "<!-- Vergleich mit anderen Algorithmen für medizinische Bilder {cite}`he2023computervision` -->"
   ]
  },
  {
   "attachments": {},
   "cell_type": "markdown",
   "metadata": {},
   "source": [
    "## Datensatz SA-1B\n",
    "\n",
    "### Vergleich mit anderen Segmentation Datasets\n",
    "\n",
    "**Andere bekannte Datasets für Segmentation Tasks:**\n",
    "- LVIS v1\n",
    "- COCO\n",
    "- ADE20K\n",
    "- Open Images\n",
    "\n",
    "```{figure} ./images/vergleich_dataset.png\n",
    ":name: vergleich_dataset\n",
    ":align: center\n",
    "Vergleich mit anderen populären Datasets für Image Segmentation. {cite}`kirillov2023segment`.\n",
    "```\n",
    "\n",
    "**&rarr; Vorteile von SA-1B**\n",
    "- deckt **Bildecken** besser ab als andere\n",
    "- hat **11x mehr Bilder** und **400x mehr Masken**\n",
    "- **diversere** Masken"
   ]
  },
  {
   "attachments": {},
   "cell_type": "markdown",
   "metadata": {},
   "source": [
    "### Qualität der Masken\n",
    "**&rarr; IoU Vergleich** mit Paar von automatisch erkannten und professionell annotierten Masken \n",
    "\n",
    "- SAM &rarr; 94% der Paare haben **höher als 90% IoU**\n",
    "- LVIS &rarr; vorherige Arbeiten haben nur **85-91% IoU**\n",
    "\n",
    "```{figure} ./images/vergleich_lvis.png\n",
    ":name: vergleich_lvis\n",
    ":align: center\n",
    "Vergleich mit Zero-Shot-Instanzsegmentierung auf LVIS v1. {cite}`kirillov2023segment`.\n",
    "```"
   ]
  },
  {
   "attachments": {},
   "cell_type": "markdown",
   "metadata": {},
   "source": [
    "### Zentren der Masken\n",
    "\n",
    "**&rarr; räumliche Verteilung der Objekt Zentren im Vergleich**\n",
    "\n",
    "- SA-1B hat größere Abdeckung der Bildecken\n",
    "- andere haben stärkere Verzerrung in der Mitte des Bildes\n",
    "\n",
    "\n",
    "```{figure} ./images/vergleich_dataset_center.png\n",
    ":name: vergleich_dataset_center\n",
    ":align: center\n",
    "Vergleich von SAM anhand der Bildgröße normierter Verteilungen der Maskenzentren. {cite}`kirillov2023segment`.\n",
    "```"
   ]
  },
  {
   "attachments": {},
   "cell_type": "markdown",
   "metadata": {},
   "source": [
    "## Limitationen\n",
    "\n",
    "- **übersieht** manchmal feine **Strukturen**\n",
    "- **halluziniert** manchmal Komponente\n",
    "- **Masken Grenzen** nicht so gut, wie andere rechenintensivere Methoden\n",
    "- eher für **allgemeine und breite Anwendung** als für Segmentierung mit hoher IoU\n",
    "- **keine Echtzeit Performance** mit großem Image Encoder\n",
    "- **Text Prompts** sind momentan noch **explorativ** und nicht robust"
   ]
  }
 ],
 "metadata": {
  "language_info": {
   "name": "python"
  },
  "orig_nbformat": 4
 },
 "nbformat": 4,
 "nbformat_minor": 2
}
