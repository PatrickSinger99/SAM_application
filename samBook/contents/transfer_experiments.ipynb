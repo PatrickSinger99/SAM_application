{
 "cells": [
  {
   "attachments": {},
   "cell_type": "markdown",
   "metadata": {},
   "source": [
    "# Zero-Shot Transfer Experiments"
   ]
  },
  {
   "attachments": {},
   "cell_type": "markdown",
   "metadata": {},
   "source": [
    "**&rarr; Evaluation von SAM anhand von Datensätzen und Aufgaben, die während des Trainings nicht vorkamen** <br>\n",
    "&rarr; Datensätze erhalten **neuartige Bilder**, die so nicht in SA-1B vorkommen\n",
    "\n",
    "```{figure} ./images/transfer_experiments_1.png\n",
    ":name: transfer_experiments_1\n",
    ":align: center\n",
    "Beispiele verschiedener Segmentierungsdatensätze, die zur Bewertung der Zero-Shot-Übertragungsfähigkeiten von SAM verwendet wurden. {cite}`kirillov2023segment`.\n",
    "```"
   ]
  },
  {
   "attachments": {},
   "cell_type": "markdown",
   "metadata": {},
   "source": [
    "## Experimente\n",
    "\n",
    "1. Ein **einziger Punkt** im Vordergrund als Prompt &rarr; Mehrdeutigkeit\n",
    "2. **Bildverständnis** auf niedriger, mittlerer und hoher Ebene &rarr; erheblicher Unterschied zu SAMs ursprünglicher Segmentierungsaufgabe\n",
    "\t- **Edge Detection**\n",
    "\t- **Object Proposal Generation**\n",
    "\t- **Instance Segmentation**\n",
    "\t- Segmentierung von Objekten aus **Freiformtext**"
   ]
  },
  {
   "attachments": {},
   "cell_type": "markdown",
   "metadata": {},
   "source": [
    "### Zero-Shot Single Point Valid Mask Evaluation\n",
    "\n",
    "&rarr; **ein Punkt** kann **mehrere Objekte** referenzieren &rarr; **größte Challenge** für SAM\n",
    "\n",
    "#### Aufbau\n",
    "- SAM bekommt Bilder mit nur **einem Punkt als Prompt**\n",
    "- **Studie**, in welcher Menschen die **Qualität der Masken** bewerten\n",
    "- **23 Datatsets** mit diversen Bildern\n",
    "- als Vergleich wird der **RITM** Algorithmus hinzugezogen\n",
    "\n",
    "`````{admonition} RITM\n",
    ":class: note\n",
    "- single-mask Methode \n",
    "- interaktiver Segmentierungs-Algorithmus\n",
    "- performt am besten anhand SAMs Benchmark als andere Methoden\n",
    "```{figure} ./images/transfer_experiments_ritm.png\n",
    ":name: transfer_experiments_ritm\n",
    ":align: center\n",
    "Beispielbild einer single-mask Segmentierung mit RITM{cite}`Vladislav_Efremov_2022`.\n",
    "```\n",
    "`````\n",
    "\n",
    "#### Ergebnisse\n",
    "\n",
    "```{figure} ./images/transfer_experiments_ritm_sam.png\n",
    ":name: transfer_experiments_ritm_sam\n",
    ":align: center\n",
    "Menschliche Bewertung der Maskenqualität bei SAM und RITM (Scale 1-10) {cite}`kirillov2023segment`\n",
    "```\n",
    "\n",
    "- Menschen bewerten die Qualität von SAMs Masken konsistent höher als die stärkste baseline RITM\n",
    "- SAM Ratings zwischen 7 und 9\n",
    "\t&rarr; “A high score (7-9): The **object is identifiable and errors are small and rare** (e.g., missing a small, heavily obscured disconnected component, ...).”\n",
    "\n",
    "&rarr; SAM hat **erfolgreich** gelernt, wie man **valide Masken** von einem einzigen Punkt auch bei **fremden Daten** erstellt"
   ]
  },
  {
   "attachments": {},
   "cell_type": "markdown",
   "metadata": {},
   "source": [
    "### Zero-Shot Edge Detection\n",
    "\n",
    "&rarr; klassische **Low-Level Edge Detection**\n",
    "#### Aufbau\n",
    "- 16×16 Grid von Vordergrundpunkten ergibt 768 vorhergesagte Masken\n",
    "- Sobel-Filterung &rarr; mask probability maps\n",
    "\n",
    "#### Ergebnisse\n",
    "\n",
    "```{figure} ./images/transfer_experiments_edge.png\n",
    ":name: transfer_experiments_edge\n",
    ":align: center\n",
    ":width: 550px\n",
    ":height: 400px\n",
    "Vergleich von SAMs Edge Detection mit dem originalen Bild und der Ground Truth {cite}`kirillov2023segment`.\n",
    "```\n",
    "\n",
    "- SAM erzeugt **sinnvolle Edge Maps**\n",
    "- **mehr Kanten** als bei **Ground Truth**\n",
    "- im **Vergleich zu anderen Deep-Learning-Methoden** wie HED performt SAM auch **sehr gut**"
   ]
  },
  {
   "attachments": {},
   "cell_type": "markdown",
   "metadata": {},
   "source": [
    "### Zero-Shot Object Proposals\n",
    "\n",
    "**&rarr; alles im Eingabebild als Masken segmentieren**\n",
    "\n",
    "#### Aufbau:\n",
    "- dafür **LVIS** Datensatz wegen hoher Anzahl an Kategorien\n",
    "- Vergleichsbaseline: **ViTDet-H** (Mask R-CNN ViT-H)\n",
    "\n",
    "#### Ergebnisse:\n",
    "\n",
    "```{figure} ./images/transfer_experiments_objectproposals.png\n",
    ":name: transfer_experiments_objectproposals\n",
    ":align: center\n",
    ":width: 550px\n",
    ":height: 250px\n",
    "Vergleich von SAMs Object Proposals mit ViTDet-H {cite}`kirillov2023segment`.\n",
    "```\n",
    "\n",
    "- **ViTDet-H** performt allgemein **besser**\n",
    "- **SAM** **schlechter bei kleinen und häufigen Objekten**"
   ]
  },
  {
   "attachments": {},
   "cell_type": "markdown",
   "metadata": {},
   "source": [
    "### Zero-Shot Instance Segmentation\n",
    "&rarr; SAM als **segmentation Modul** von einem Instance Segmenter &rarr; **Einbindung** von SAM in größeren Bereich\n",
    "\n",
    "#### Ansatz\n",
    "- **Object Detector** mit Bounding Boxen als Ausgabe\n",
    "- **Bounding Boxen** sind Prompts für SAM\n",
    "- Vergleich mit **ViTDet**\n",
    "- **menschliche Bewertung** der Masken\n",
    "\n",
    "#### Ergebnisse\n",
    "- **SAM** Masken sind **qualitativ besser als ViTDet**\n",
    "- **SAM** performt **besser in der menschlichen Studie** als ViTDet"
   ]
  },
  {
   "attachments": {},
   "cell_type": "markdown",
   "metadata": {},
   "source": [
    "### Zero-Shot Text-to-Mask\n",
    "\n",
    "**&rarr; Objekte anhand von Freitext segementieren**\n",
    "\n",
    "#### Ansatz\n",
    "- SAM + **CLIP** <!--CLIP: text-to-image image-to-text Transformer-->\n",
    "- Änderung an SAMs **Training**\n",
    "\t- für jede Maske &rarr; CLIP image embedding \n",
    "\t- **Prompt** für SAM: **image embedding**\n",
    "- **Inferenz Phase**\n",
    "\t- **Text an CLIP** Text Encoder\n",
    "\t- **Text Embedding als Prompt** an SAM\n",
    "\n",
    "#### Ergebnisse\n",
    "\n",
    "```{figure} ./images/transfer_experiments_text.png\n",
    ":name: transfer_experiments_text\n",
    ":align: center\n",
    ":width: 550px\n",
    ":height: 450px\n",
    "Darstellung von Text Prompts für SAM{cite}`kirillov2023segment`.\n",
    "```\n",
    "\n",
    "- SAM **kann Objekte anhand Wörtern und Sätzen segmentieren**\n",
    "- manchmal **fehlerhaft**\n",
    "\t- zusätzlicher Punkt hilft bei Prediction\n"
   ]
  },
  {
   "attachments": {},
   "cell_type": "markdown",
   "metadata": {},
   "source": []
  }
 ],
 "metadata": {
  "language_info": {
   "name": "python"
  },
  "orig_nbformat": 4
 },
 "nbformat": 4,
 "nbformat_minor": 2
}
